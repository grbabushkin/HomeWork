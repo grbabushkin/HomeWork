{
 "cells": [
  {
   "cell_type": "markdown",
   "metadata": {},
   "source": [
    "Задание 1. Даны 2 переменных, в которых хранятся строки произвольной длины: phrase_1 и phrase_2.\n",
    "Напишите код, который проверяет какая из этих строк длиннее."
   ]
  },
  {
   "cell_type": "code",
   "execution_count": 13,
   "metadata": {},
   "outputs": [
    {
     "name": "stdout",
     "output_type": "stream",
     "text": [
      "Данные фразы одинаковы по длине\n"
     ]
    }
   ],
   "source": [
    "phrase_1 = \"Первая фраза\"\n",
    "phrase_2 = \"Вторая фраза\"\n",
    "if len(phrase_1)>len(phrase_2):\n",
    "    print('Фраза №1 длиннее Фразы №2')\n",
    "elif len(phrase_1)==len(phrase_2):\n",
    "    print('Данные фразы одинаковы по длине')\n",
    "else:\n",
    "    print('Фраза №2 длиннее Фразы №1')\n"
   ]
  },
  {
   "cell_type": "markdown",
   "metadata": {},
   "source": [
    "Задание 2.\n",
    "Дана переменная, в которой хранится четырехзначное число (год). Необходимо написать программу, которая выведет, является ли данный год високосным или обычным."
   ]
  },
  {
   "cell_type": "code",
   "execution_count": 60,
   "metadata": {
    "scrolled": true
   },
   "outputs": [
    {
     "name": "stdout",
     "output_type": "stream",
     "text": [
      "2019 год не високосный\n"
     ]
    }
   ],
   "source": [
    "year = 2019\n",
    "if (year%4)==0 and (year%100)!=0:\n",
    "    print(year,'год високосный')\n",
    "elif (year%400)==0:\n",
    "    print (year,'год високосный')\n",
    "else:\n",
    "    print(year,'год не високосный')"
   ]
  },
  {
   "cell_type": "markdown",
   "metadata": {},
   "source": [
    "ВОПРОС ПРЕПОДАВАТЕЛЯМ - КАК ВЫПОЛЕНИТЬ ДАННОЕ ЗАДАНИЕ ЧЕРЕЗ РАСЧЕТ КОЛ-ВА ДНЕЙ В ГОДУ?"
   ]
  },
  {
   "cell_type": "markdown",
   "metadata": {},
   "source": [
    "Задание 3.\n",
    "Необходимо написать программу, которая будет запрашивать у пользователя месяц и дату рождения и выводить соответствующий знак зодиака"
   ]
  },
  {
   "cell_type": "code",
   "execution_count": 132,
   "metadata": {},
   "outputs": [
    {
     "name": "stdout",
     "output_type": "stream",
     "text": [
      "Введите Ваш год рождения 1985\n",
      "Введите Ваш месяц рождения 11\n",
      "Введите Ваш день рождения 06\n",
      "Ваш знак зодиака - Скорпион\n"
     ]
    }
   ],
   "source": [
    "# ГОД НЕ НАДО ЗАПРАШИВАТЬ ПО УСЛОВИЮ ЗАДАЧИ. ПОСТАВИЛ, ЧТОБ БЫЛО НАГЛЯДНЕЕ\n",
    "# ВМЕСТО ЗАПРОС НА ВВОД МОГ ПОСТАВИТЬ НИЖЕ ВЕЗЕДЕ ПРОСТО ОДИНАКОВЫЙ ГОД. НО КАК УБРАТЬ ГОД ИЗ РЕШЕНИЯ ВООБЩЕ НЕ НАШЕЛ ПРИ РАБОТЕ С ДАТАМИ\n",
    "# Можно было обойтись без дат, фигугрируя только чилом месяца и числом дня, сравнисвя их соответсвенно \n",
    "\n",
    "\n",
    "year_of_birth = int(input('Введите Ваш год рождения ')) \n",
    "month_of_birth = int(input('Введите Ваш месяц рождения '))\n",
    "day_of_birth = int(input('Введите Ваш день рождения '))\n",
    "\n",
    "Aries = datetime.date(year_of_birth,3,21) #Овен\n",
    "Taurus = datetime.date(year_of_birth,4,21) #Телец\n",
    "Gemini = datetime.date(year_of_birth,5,22) #Близнецы\n",
    "Cancer = datetime.date(year_of_birth,6,22) #Рак\n",
    "Leo = datetime.date(year_of_birth,7,23) #Лев\n",
    "Virgo = datetime.date(year_of_birth,8,22) #Дева\n",
    "Libra = datetime.date(year_of_birth,9,24) #Весы\n",
    "Scorpio = datetime.date(year_of_birth,10,24) #Скорпион\n",
    "Sagittarius = datetime.date(year_of_birth,11,23) #Стрелец\n",
    "Capricorn = datetime.date(year_of_birth,12,23) #Козерог\n",
    "Aquarius = datetime.date(year_of_birth,1,21) #Водолей\n",
    "Pisces = datetime.date(year_of_birth,2,20) #Рыбы\n",
    "\n",
    "data_birth = datetime.date(year_of_birth,month_of_birth,day_of_birth)\n",
    "\n",
    "if Aries<=data_birth<Taurus:\n",
    "    print ('Ваш знак зодиака - Овен')\n",
    "elif Taurus<=data_birth<Gemini:\n",
    "    print ('Ваш знак зодиака - Телец')\n",
    "elif Gemini<=data_birth<Cancer:\n",
    "    print ('Ваш знак зодиака - Близнецы')\n",
    "elif Cancer<=data_birth<Leo:\n",
    "    print ('Ваш знак зодиака - Рак')\n",
    "elif Leo<=data_birth<Virgo:\n",
    "    print ('Ваш знак зодиака - Лев')\n",
    "elif Virgo<=data_birth<Libra:\n",
    "    print ('Ваш знак зодиака - Дева')\n",
    "elif Libra<=data_birth<Scorpio:\n",
    "    print ('Ваш знак зодиака - Весы')\n",
    "elif Scorpio<=data_birth<Sagittarius:\n",
    "    print ('Ваш знак зодиака - Скорпион')\n",
    "elif Sagittarius<=data_birth<Capricorn:\n",
    "    print ('Ваш знак зодиака - Стрелец')\n",
    "elif Capricorn<=data_birth<Aquarius:\n",
    "    print ('Ваш знак зодиака - Козерог')\n",
    "elif Aquarius<=data_birth<Pisces:\n",
    "    print ('Ваш знак зодиака - Водолей')\n",
    "else:\n",
    "    print ('Ваш знак зодиака - Рыбы')\n",
    "    \n",
    "\n",
    "#data_birth"
   ]
  },
  {
   "cell_type": "markdown",
   "metadata": {},
   "source": [
    "ВОПРОС: КАК ИСКЛЮЧИТЬ ГОД В РЕШЕНИИ, И ЧТОБ НЕ ВВОДИТЬ ЕГО?"
   ]
  },
  {
   "cell_type": "markdown",
   "metadata": {},
   "source": [
    "Задание 4.\n",
    "Вам нужно написать программу для подбора упаковок по размерам товара. Размеры (ширина, длина, высота) хранятся в переменных (в сантиметрах):\n",
    "\n",
    "Используйте следующие правила:\n",
    "\n",
    "-если каждое из трех измерений менее 15 сантиметров, то выведите на экран \"Коробка №1\";\n",
    "-если хотя бы одно из измерений больше 15 сантиметров, но менее 50 сантиметров, то выводите \"Коробка №2\";\n",
    "-если длина товара больше 2 метров, то выводите \"Упаковка для лыж\";\n",
    "-во всех остальных случаях выводите \"Стандартная коробка №3\"."
   ]
  },
  {
   "cell_type": "code",
   "execution_count": 82,
   "metadata": {
    "scrolled": true
   },
   "outputs": [
    {
     "name": "stdout",
     "output_type": "stream",
     "text": [
      "Укажите длину 15\n",
      "Укажите ширину 25\n",
      "Укажите высоту 201\n",
      "Упаковка для лыж\n"
     ]
    }
   ],
   "source": [
    "length = int(input('Укажите длину '))\n",
    "width = int(input('Укажите ширину '))\n",
    "height = int(input('Укажите высоту '))\n",
    "if length>200 or width>200 or height>200: #добавил ширину и выосту на случай, если перепутали их с длиной\n",
    "    print ('Упаковка для лыж')\n",
    "elif length<=15 and width<=15 and height<=15: # подразумевается коробка 15*15*15\n",
    "    print ('Коробка №1')\n",
    "elif length<=50 and width<=50 and height<=50: # подразумевается коробка 50*50*50\n",
    "    print ('Коробка №2')\n",
    "else:\n",
    "    print ('Стандартная коробка №3') # все остальные коробки, хотя условий тут можно больше поставить для ранжирования коробок"
   ]
  },
  {
   "cell_type": "markdown",
   "metadata": {},
   "source": [
    "Задание 5 (необязательное)\n",
    "Дана переменная, в которой хранится шестизначное число (номер проездного билета). Напишите программу, которая будет определять, является ли данный билет \"счастливым\". Билет считается счастливым, если сумма первых трех цифр совпадает с суммой последних трех цифр номера."
   ]
  },
  {
   "cell_type": "code",
   "execution_count": 87,
   "metadata": {},
   "outputs": [
    {
     "name": "stdout",
     "output_type": "stream",
     "text": [
      "Укажите номер вашего билета 123111\n",
      "Повезет в другой раз\n"
     ]
    }
   ],
   "source": [
    "number = int(input('Укажите номер вашего билета '))\n",
    "a = number//100000\n",
    "b = number//10000\n",
    "b = b%10\n",
    "c = number//1000\n",
    "c = c%10\n",
    "d = number//100\n",
    "d = d%10\n",
    "e = number//10\n",
    "e = e%10\n",
    "f = number%10\n",
    "if a+b+c == d+e+f:\n",
    "    print('Ваш билет Счатсливый')\n",
    "else:\n",
    "    print ('Повезет в другой разЗадание 6 (необязательное)\n"
   ]
  },
  {
   "cell_type": "markdown",
   "metadata": {},
   "source": [
    "Задание 6 (необязательное)\n",
    "Напишите программу, которая сможет вычислять площади трех фигур (круг, треугольник и прямоугольник). Тип фигуры запрашиваем через пользовательский ввод, после чего делаем запрос характеристик фигуры:\n",
    "\n",
    "если пользователь выбрал круг, запрашиваем его радиус,\n",
    "если треугольник – длины трех его сторон;\n",
    "если прямоугольник – длины двух его сторон."
   ]
  },
  {
   "cell_type": "code",
   "execution_count": 125,
   "metadata": {},
   "outputs": [
    {
     "name": "stdout",
     "output_type": "stream",
     "text": [
      "Выберете площадь какой фигуры будем искать? (1-треугольник, 2-круг, 3-прямоугольник)1\n",
      "Длина первой стороны треугольника 2\n",
      "Длина второй стороны треугольника 2\n",
      "Длина третьей стороны треугольника 3\n",
      "Площадь Треугольник 1.98\n"
     ]
    }
   ],
   "source": [
    "figure = int(input('Выберете площадь какой фигуры будем искать? (1-треугольник, 2-круг, 3-прямоугольник)'))\n",
    "if figure == 1:\n",
    "    a = float(input('Длина первой стороны треугольника '))\n",
    "    b = float(input('Длина второй стороны треугольника '))\n",
    "    c = float(input('Длина третьей стороны треугольника '))    \n",
    "    p = float((a+b+c)/2)\n",
    "    s1 = float((p*(p-a)*(p-b)*(p-c))**0.5)\n",
    "    print ('Площадь Треугольник', round(s1,2))\n",
    "elif figure == 2:\n",
    "    r = float(input('Радиус круга '))\n",
    "    s2 = 3.14*r**2\n",
    "    print ('Площадь круга', round(s2,2))\n",
    "elif figure == 3:\n",
    "    d = float(input('Длина первой стороны прямоугольник '))\n",
    "    h = float(input('Длина второй стороны прямоугольник '))\n",
    "    s3 = a*b\n",
    "    print ('Площадь прямоугольник', round(s3,2))\n"
   ]
  }
 ],
 "metadata": {
  "kernelspec": {
   "display_name": "Python 3",
   "language": "python",
   "name": "python3"
  },
  "language_info": {
   "codemirror_mode": {
    "name": "ipython",
    "version": 3
   },
   "file_extension": ".py",
   "mimetype": "text/x-python",
   "name": "python",
   "nbconvert_exporter": "python",
   "pygments_lexer": "ipython3",
   "version": "3.8.5"
  }
 },
 "nbformat": 4,
 "nbformat_minor": 4
}
