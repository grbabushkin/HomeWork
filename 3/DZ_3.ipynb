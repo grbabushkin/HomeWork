{
 "cells": [
  {
   "cell_type": "markdown",
   "metadata": {},
   "source": [
    "№1. Дана переменная, в которой хранится слово из латинских букв. Напишите код, который выводит на экран:\n",
    "\n",
    " - среднюю букву, если число букв в слове нечетное;\n",
    " - две средних буквы, если число букв четное."
   ]
  },
  {
   "cell_type": "code",
   "execution_count": 8,
   "metadata": {},
   "outputs": [
    {
     "name": "stdout",
     "output_type": "stream",
     "text": [
      "t\n"
     ]
    }
   ],
   "source": [
    "#word = 'test'\n",
    "word = 'testing'\n",
    "len(word)\n",
    "if (len(word) % 2) == 0:\n",
    "    a = len(word) / 2\n",
    "    print(word[(int(a) - 1):(int(a) + 1)])\n",
    "else:\n",
    "    a = len(word) / 2\n",
    "    print(word[int(a)])"
   ]
  },
  {
   "cell_type": "markdown",
   "metadata": {},
   "source": [
    "№2. Напишите программу, которая последовательно запрашивает у пользователя числа (по одному за раз) и после первого нуля выводит сумму всех ранее введенных чисел."
   ]
  },
  {
   "cell_type": "code",
   "execution_count": 31,
   "metadata": {},
   "outputs": [
    {
     "name": "stdout",
     "output_type": "stream",
     "text": [
      "Введите число: 12\n",
      "Введите число: 13\n",
      "Введите число: 14\n",
      "Введите число: 0\n",
      "Результат: 39\n"
     ]
    }
   ],
   "source": [
    "result = 0\n",
    "x = 1\n",
    "while x != 0:\n",
    "    x = int(input('Введите число: '))\n",
    "    result = result + x\n",
    "print('Результат:', result)\n"
   ]
  },
  {
   "cell_type": "markdown",
   "metadata": {},
   "source": [
    "№3. Мы делаем MVP dating-сервиса, и у нас есть список парней и девушек.\n",
    "Выдвигаем гипотезу: лучшие рекомендации мы получим, если просто отсортируем имена по алфавиту и познакомим людей с одинаковыми индексами после сортировки! Но мы не будем никого знакомить, если кто-то может остаться без пары:"
   ]
  },
  {
   "cell_type": "code",
   "execution_count": 59,
   "metadata": {
    "scrolled": true
   },
   "outputs": [
    {
     "name": "stdout",
     "output_type": "stream",
     "text": [
      "Emma + Alex = LOVE\n",
      "Kate + Arthur = LOVE\n",
      "Kira + John = LOVE\n",
      "Liza + Peter = LOVE\n",
      "Trisha + Richard = LOVE\n"
     ]
    }
   ],
   "source": [
    "boys = ['Peter', 'Alex', 'John', 'Arthur', 'Richard']\n",
    "girls = ['Kate', 'Liza', 'Kira', 'Emma', 'Trisha']\n",
    "if len(boys) == len(girls):\n",
    "    g = sorted(girls)\n",
    "    b = sorted(boys)\n",
    "    a = 0\n",
    "    while a < len(boys):\n",
    "        print(g[a],'+',b[a],'=','LOVE')\n",
    "        a = a + 1\n",
    "else:\n",
    "    print('Внимание, кто-то может остаться без пары!')"
   ]
  },
  {
   "cell_type": "markdown",
   "metadata": {},
   "source": [
    "№4. У нас есть список, содержащий информацию о среднедневной температуре в Фаренгейтах за произвольный период по странам (структура данных в примере). Необходимо написать код, который рассчитает среднюю температуру за период в Цельсиях(!) для каждой страны."
   ]
  },
  {
   "cell_type": "code",
   "execution_count": 53,
   "metadata": {},
   "outputs": [
    {
     "name": "stdout",
     "output_type": "stream",
     "text": [
      "Thailand - 23.86 C\n",
      "Germany - 13.8 C\n",
      "Russia - 3.71 C\n",
      "Poland - 12.0 C\n"
     ]
    }
   ],
   "source": [
    "countries_temperature = [\n",
    "['Thailand', [75.2, 77, 78.8, 73.4, 68, 75.2, 77]],\n",
    "['Germany', [57.2, 55.4, 59, 59, 53.6]],\n",
    "['Russia', [35.6, 37.4, 39.2, 41, 42.8, 39.2, 35.6]],\n",
    "['Poland', [50, 50, 53.6, 57.2, 55.4, 55.4]]\n",
    "]\n",
    "for country in countries_temperature:\n",
    "    a = country[1]\n",
    "    celsius = round((((sum (a)/len (a))-32)/1.8),2)\n",
    "    print(country[0],'-',celsius,'C')\n",
    "    \n"
   ]
  },
  {
   "cell_type": "markdown",
   "metadata": {},
   "source": [
    "№5. Дан поток логов по количеству просмотренных страниц для каждого пользователя. Вам необходимо написать алгоритм, который считает среднее значение просмотров на пользователя. Т. е. надо посчитать отношение суммы всех просмотров к количеству уникальных пользователей."
   ]
  },
  {
   "cell_type": "code",
   "execution_count": 28,
   "metadata": {},
   "outputs": [
    {
     "name": "stdout",
     "output_type": "stream",
     "text": [
      "Среднее количество просмотров на уникального пользователя: 23.25\n"
     ]
    }
   ],
   "source": [
    "stream = [\n",
    "'2018-01-01,user1,3',\n",
    "'2018-01-07,user1,4',\n",
    "'2018-03-29,user1,1',\n",
    "'2018-04-04,user1,13',\n",
    "'2018-01-05,user2,7',\n",
    "'2018-06-14,user3,4',\n",
    "'2018-07-02,user3,10',\n",
    "'2018-03-21,user4,19',\n",
    "'2018-03-22,user4,4',\n",
    "'2018-04-22,user4,8',\n",
    "'2018-05-03,user4,9',\n",
    "'2018-05-11,user4,11',\n",
    "]\n",
    "\n",
    "#stream = ['2018-01-01,user100,150','2018-01-07,user99,205','2018-03-29,user1001,81']\n",
    "\n",
    "visits = 0\n",
    "sum_unique_users = 0\n",
    "unique_user = 0\n",
    "for a in stream: # преобразуем строку в список\n",
    "    s = a.split(',')\n",
    "    visits = visits + int(s[2]) # считаем общее количество посещений\n",
    "    if unique_user != s[1]:   # считаем уникальных пользователей\n",
    "        sum_unique_users = sum_unique_users + 1\n",
    "        unique_user = s[1]     \n",
    "    \n",
    "print ('Среднее количество просмотров на уникального пользователя:', round((visits/sum_unique_users),2))\n",
    "\n",
    " \n",
    "        \n"
   ]
  },
  {
   "cell_type": "markdown",
   "metadata": {},
   "source": [
    "№6. Необходимо у пользователя запрашивать набор чисел разделенных пробелом. В результате должны выводиться числа, которые повторяются в вводе более одного раза."
   ]
  },
  {
   "cell_type": "code",
   "execution_count": 97,
   "metadata": {},
   "outputs": [
    {
     "name": "stdout",
     "output_type": "stream",
     "text": [
      "Введите числа: 1 1 1 1 1 2 2 2\n",
      "1\n",
      "2\n"
     ]
    }
   ],
   "source": [
    "string_of_numbers = str(input('Введите числа: '))\n",
    "list_of_numbers = string_of_numbers.split(' ') # преобразуем в список\n",
    "list_of_numbers = sorted(list_of_numbers) # упорядочиваем для последующей проверки на уникальность\n",
    "unique_number = 0 \n",
    "for numb in list_of_numbers:\n",
    "       if unique_number != numb and list_of_numbers.count(numb) > 1:  \n",
    "        print (numb)\n",
    "        unique_number = numb \n"
   ]
  }
 ],
 "metadata": {
  "kernelspec": {
   "display_name": "Python 3",
   "language": "python",
   "name": "python3"
  },
  "language_info": {
   "codemirror_mode": {
    "name": "ipython",
    "version": 3
   },
   "file_extension": ".py",
   "mimetype": "text/x-python",
   "name": "python",
   "nbconvert_exporter": "python",
   "pygments_lexer": "ipython3",
   "version": "3.8.5"
  }
 },
 "nbformat": 4,
 "nbformat_minor": 4
}
